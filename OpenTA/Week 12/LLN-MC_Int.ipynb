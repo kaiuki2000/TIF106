{
 "cells": [
  {
   "cell_type": "code",
   "execution_count": 51,
   "metadata": {},
   "outputs": [
    {
     "name": "stdout",
     "output_type": "stream",
     "text": [
      "Result = 0.7624043038225636.\n"
     ]
    }
   ],
   "source": [
    "import numpy as np\n",
    "from scipy.integrate import quad\n",
    "\n",
    "# Integrand function\n",
    "def func(x):\n",
    "    return(np.cos(x) * np.exp(-x**2/2) / np.sqrt(2*np.pi))\n",
    "\n",
    "# Other definitions: number of points (for MC); Integration lim.\n",
    "N      = 10_000\n",
    "lim    = 1e3\n",
    "sum_fx = 0\n",
    "\n",
    "# Computing an improper integral with Monte Carlo isn't a very good idea.\n",
    "# Possible solution: Change of variables, so we don't have to sample an infinite distribution (Uniform[-inf, inf]). \n",
    "for n in range(0, N):\n",
    "    x = np.random.uniform(-lim, lim)\n",
    "    sum_fx += func(x)\n",
    "print(f'Result = {(2 * lim) * sum_fx/N}.')"
   ]
  }
 ],
 "metadata": {
  "kernelspec": {
   "display_name": "TIF106_venv",
   "language": "python",
   "name": "python3"
  },
  "language_info": {
   "codemirror_mode": {
    "name": "ipython",
    "version": 3
   },
   "file_extension": ".py",
   "mimetype": "text/x-python",
   "name": "python",
   "nbconvert_exporter": "python",
   "pygments_lexer": "ipython3",
   "version": "3.9.7"
  },
  "orig_nbformat": 4
 },
 "nbformat": 4,
 "nbformat_minor": 2
}
